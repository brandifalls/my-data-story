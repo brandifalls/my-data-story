{
    "cells": [
        {
            "cell_type": "markdown",
            "source": [
                "# Overview\r\n",
                "My Google location history data was exported from Google Timeline.\r\n",
                "\r\n",
                "My goal is to have a timeline of places I have been so that I will have the abliity to join this data with other personal data sets, which will allow me to build a personal data story.\r\n",
                "\r\n",
                "For now, the data I will work with is from 2020 only. \r\n",
                "\r\n",
                "Directory Structure of the Google Data:  \r\n",
                "Takeout/Location History/Semantic Location History/2020\r\n",
                "\r\n",
                "There are 12 separate JSON files, 1 for each month of 2020. \r\n",
                "\"2020_JANUARY\" , \"2020_FEBRUARY\", etc.\r\n",
                "\r\n",
                "## Steps\r\n",
                "* Convert these 12 JSON files to 2 CSVs (1 for places visited, 1 for activity types)\r\n",
                "* Perform any data cleansing necessary\r\n",
                "* Export the final versions to CSVs for joining with other data sets. "
            ],
            "metadata": {}
        },
        {
            "cell_type": "markdown",
            "source": [
                "## Resource\r\n",
                "https://medium.com/@ggonzalezzabala/graph-your-own-google-location-history-in-tableau-e362d1d8f18d\r\n"
            ],
            "metadata": {}
        },
        {
            "cell_type": "markdown",
            "source": [
                "# Import Packages"
            ],
            "metadata": {}
        },
        {
            "cell_type": "code",
            "execution_count": 1,
            "source": [
                "import os\r\n",
                "import pandas as pd\r\n",
                "import numpy as np\r\n",
                "import datetime\r\n",
                "import json\r\n",
                "import csv\r\n",
                "\r\n",
                "from IPython.core.interactiveshell import InteractiveShell\r\n",
                "InteractiveShell.ast_node_interactivity = \"all\""
            ],
            "outputs": [],
            "metadata": {}
        },
        {
            "cell_type": "markdown",
            "source": [
                "## Convert JSON to CSV"
            ],
            "metadata": {}
        },
        {
            "cell_type": "code",
            "execution_count": 2,
            "source": [
                "# Make sure current directory is where your 2020 json files are\r\n",
                "os.getcwd()"
            ],
            "outputs": [
                {
                    "output_type": "execute_result",
                    "data": {
                        "text/plain": [
                            "'c:\\\\Users\\\\Brandi\\\\Documents\\\\Data Projects\\\\my-data-story'"
                        ]
                    },
                    "metadata": {},
                    "execution_count": 2
                }
            ],
            "metadata": {}
        },
        {
            "cell_type": "code",
            "execution_count": 3,
            "source": [
                "os.chdir('c:\\\\Users\\\\Brandi\\\\Documents\\\\Google Data Export\\\\Takeout\\\\Location History\\\\Semantic Location History')\r\n",
                "os.getcwd()"
            ],
            "outputs": [
                {
                    "output_type": "execute_result",
                    "data": {
                        "text/plain": [
                            "'c:\\\\Users\\\\Brandi\\\\Documents\\\\Google Data Export\\\\Takeout\\\\Location History\\\\Semantic Location History'"
                        ]
                    },
                    "metadata": {},
                    "execution_count": 3
                }
            ],
            "metadata": {}
        },
        {
            "cell_type": "code",
            "execution_count": 4,
            "source": [
                "#Creates a list from placeVisit data.\r\n",
                "def placeVisit(placeVisit_dict):\r\n",
                "    place_id = placeVisit_dict[\"location\"][\"placeId\"]\r\n",
                "    lat = placeVisit_dict[\"location\"][\"latitudeE7\"]\r\n",
                "    lon = placeVisit_dict[\"location\"][\"longitudeE7\"]\r\n",
                "    place_name = placeVisit_dict[\"location\"][\"name\"]\r\n",
                "    address = placeVisit_dict[\"location\"][\"address\"].replace(\"\\n\",\", \")\r\n",
                "    start_time = placeVisit_dict[\"duration\"][\"startTimestampMs\"]\r\n",
                "    end_time = placeVisit_dict[\"duration\"][\"endTimestampMs\"]\r\n",
                "    confidence = placeVisit_dict[\"visitConfidence\"]\r\n",
                "    #Formatting variables\r\n",
                "    lat = int(lat)/1e7\r\n",
                "    lon = int(lon)/1e7\r\n",
                "    start_time = timeStampToDate(int(start_time))\r\n",
                "    end_time = timeStampToDate(int(end_time))\r\n",
                "    place_visit = [place_id,lat, lon, address, start_time, end_time, confidence, place_name]\r\n",
                "    return place_visit\r\n",
                "\r\n",
                "#Returns a list of all the waypoints of a activity.\r\n",
                "def activitySegment(activitySegment_dict):\r\n",
                "    start_point = activityStartPoint(activitySegment_dict)\r\n",
                "    end_point = activityEndPoint(activitySegment_dict)\r\n",
                "    activity_points = activityRawPoints(activitySegment_dict, start_point)\r\n",
                "    activity_points.insert(0, start_point)\r\n",
                "    end_point.insert(1, (len(activity_points)) + 1)\r\n",
                "    activity_points.append(end_point)\r\n",
                "    return activity_points\r\n",
                "\r\n",
                "#Set start point of activity as a list.\r\n",
                "def activityStartPoint(activitySegment_dict):\r\n",
                "    trip_id = activitySegment_dict[\"duration\"][\"startTimestampMs\"]\r\n",
                "    order = 1\r\n",
                "    lat = activitySegment_dict[\"startLocation\"][\"latitudeE7\"]\r\n",
                "    lon = activitySegment_dict[\"startLocation\"][\"longitudeE7\"]\r\n",
                "    time_stamp = timeStampToDate(int(trip_id))\r\n",
                "    distance = activitySegment_dict.get(\"distance\", 0)\r\n",
                "    ac_type = activitySegment_dict[\"activityType\"]\r\n",
                "    confidence = activitySegment_dict[\"confidence\"]\r\n",
                "    time_convention = timeStampToAMPM(int(trip_id))\r\n",
                "    #Formatting variables\r\n",
                "    lat = int(lat)/1e7\r\n",
                "    lon = int(lon)/1e7\r\n",
                "    start_point = [trip_id, order, lat, lon, time_stamp, distance, ac_type, confidence, time_convention]\r\n",
                "    return start_point\r\n",
                "\r\n",
                "#Creates a list of list with each waypoint of activity.\r\n",
                "def activityRawPoints(activitySegment_dict, start_point):\r\n",
                "    points = []\r\n",
                "    order = 1\r\n",
                "    if \"waypointPath\" in activitySegment_dict.keys():\r\n",
                "      way_points = activitySegment_dict[\"waypointPath\"][\"waypoints\"]\r\n",
                "      for point in way_points:\r\n",
                "        trip_id = start_point[0]\r\n",
                "        order += 1\r\n",
                "        lat = int(point[\"latE7\"])/1e7\r\n",
                "        lon = int(point[\"lngE7\"])/1e7\r\n",
                "        time_stamp = start_point[4]\r\n",
                "        distance = start_point[5]\r\n",
                "        ac_type = start_point[6]\r\n",
                "        confidence = start_point[7]\r\n",
                "        time_convention = timeStampToAMPM(int(trip_id))\r\n",
                "        #Formatting variables\r\n",
                "        list_point = [trip_id, order, lat, lon, time_stamp, distance, ac_type, confidence, time_convention]\r\n",
                "        points.append(list_point)\r\n",
                "    elif \"simplifiedRawPath\" in activitySegment_dict.keys():\r\n",
                "      raw_points = activitySegment_dict[\"simplifiedRawPath\"][\"points\"]\r\n",
                "      for point in raw_points:\r\n",
                "        trip_id = start_point[0]\r\n",
                "        order += 1\r\n",
                "        lat = int(point[\"latE7\"])/1e7\r\n",
                "        lon = int(point[\"lngE7\"])/1e7\r\n",
                "        time_stamp = timeStampToDate(int(point[\"timestampMs\"]))\r\n",
                "        distance = start_point[5]\r\n",
                "        ac_type = start_point[6]\r\n",
                "        confidence = start_point[7]\r\n",
                "        time_convention = timeStampToAMPM(int(trip_id))\r\n",
                "        #Formatting variables\r\n",
                "        list_point = [trip_id, order, lat, lon, time_stamp, distance, ac_type, confidence, time_convention]\r\n",
                "        points.append(list_point)\r\n",
                "    return points\r\n",
                "\r\n",
                "#Set end point of activity as a list.\r\n",
                "def activityEndPoint(activitySegment_dict):\r\n",
                "    trip_id = activitySegment_dict[\"duration\"][\"startTimestampMs\"]\r\n",
                "    lat = activitySegment_dict[\"endLocation\"][\"latitudeE7\"]\r\n",
                "    lon = activitySegment_dict[\"endLocation\"][\"longitudeE7\"]\r\n",
                "    time_stamp = activitySegment_dict[\"duration\"][\"endTimestampMs\"]\r\n",
                "    distance = activitySegment_dict.get(\"distance\", 0)\r\n",
                "    ac_type = activitySegment_dict[\"activityType\"]\r\n",
                "    confidence = activitySegment_dict[\"confidence\"]\r\n",
                "    time_convention = timeStampToAMPM(int(trip_id))\r\n",
                "    #Formatting variables\r\n",
                "    lat = int(lat)/1e7\r\n",
                "    lon = int(lon)/1e7\r\n",
                "    time_stamp = timeStampToDate(int(time_stamp))\r\n",
                "    end_point = [trip_id, lat, lon, time_stamp, distance, ac_type, confidence, time_convention]\r\n",
                "    return end_point\r\n",
                "\r\n",
                "#Convert milliseconds timestamp into a readable date.\r\n",
                "def timeStampToDate(milliseconds):\r\n",
                "    date = datetime.datetime.fromtimestamp(milliseconds/1000.0)\r\n",
                "    date = date.strftime('%Y-%m-%d %H:%M:%S')\r\n",
                "    return date\r\n",
                "\r\n",
                "#Check time convention.\r\n",
                "def timeStampToAMPM(milliseconds):\r\n",
                "    date = datetime.datetime.fromtimestamp(milliseconds/1000.0)\r\n",
                "    if date.hour < 12:\r\n",
                "      time_convention = \"AM\"\r\n",
                "    else:\r\n",
                "      time_convention = \"PM\"\r\n",
                "    return time_convention\r\n",
                "\r\n",
                "#Method to run all the scripts.\r\n",
                "def parse_data(data):\r\n",
                "    for data_unit in data[\"timelineObjects\"]:\r\n",
                "      if \"activitySegment\" in data_unit.keys():\r\n",
                "        write_activity_points_csv(activitySegment(data_unit[\"activitySegment\"]))\r\n",
                "      elif \"placeVisit\" in data_unit.keys():\r\n",
                "        write_places_csv(placeVisit(data_unit[\"placeVisit\"]))\r\n",
                "      else:\r\n",
                "        print(\"Error\")\r\n",
                "\r\n",
                "#CSV writers.\r\n",
                "def write_places_csv(place_data_list):\r\n",
                "  with open('FULL_places.csv', 'a', newline='') as file:\r\n",
                "    writer = csv.writer(file, delimiter=',')\r\n",
                "    writer.writerow(place_data_list)\r\n",
                "\r\n",
                "def write_activity_points_csv(point_data_list):\r\n",
                "  with open('FULL_activity_points.csv', 'a', newline='') as file:\r\n",
                "    writer = csv.writer(file, delimiter=',')\r\n",
                "    writer.writerows(point_data_list)\r\n",
                "\r\n",
                "\r\n",
                "#-------------------------------------------------------------------------------\r\n",
                "#-------------------------------------------------------------------------------\r\n",
                "\r\n",
                "for file in os.listdir(\"2020\"):\r\n",
                "  with open(f\"2020/{file}\") as f:\r\n",
                "    data = json.load(f)\r\n",
                "  parse_data(data)"
            ],
            "outputs": [],
            "metadata": {}
        },
        {
            "cell_type": "markdown",
            "source": [
                "# Load CSV file into Data Frame"
            ],
            "metadata": {}
        },
        {
            "cell_type": "code",
            "execution_count": 5,
            "source": [
                "#column names\r\n",
                "colnames1=['place_id', 'lat', 'lon', 'address', 'start_time', 'end_time', 'confidence', 'place_name'] \r\n",
                "colnames2=['trip_id', 'order', 'lat', 'lon', 'time_stamp', 'distance', 'ac_type', 'confidence', 'time_convention'] \r\n",
                "\r\n",
                "places_df = pd.read_csv(r'C:/Users/Brandi/Documents/Google Data Export/Takeout/Location History/Semantic Location History/FULL_places.csv', names=colnames1, header=None)\r\n",
                "activity_df = pd.read_csv(r'C:/Users/Brandi/Documents/Google Data Export/Takeout/Location History/Semantic Location History/FULL_activity_points.csv', names=colnames2, header=None)\r\n"
            ],
            "outputs": [],
            "metadata": {}
        },
        {
            "cell_type": "code",
            "execution_count": 6,
            "source": [
                "places_df.dtypes\r\n",
                "activity_df.dtypes\r\n",
                "places_df.shape\r\n",
                "activity_df.shape"
            ],
            "outputs": [
                {
                    "output_type": "execute_result",
                    "data": {
                        "text/plain": [
                            "place_id       object\n",
                            "lat           float64\n",
                            "lon           float64\n",
                            "address        object\n",
                            "start_time     object\n",
                            "end_time       object\n",
                            "confidence      int64\n",
                            "place_name     object\n",
                            "dtype: object"
                        ]
                    },
                    "metadata": {},
                    "execution_count": 6
                },
                {
                    "output_type": "execute_result",
                    "data": {
                        "text/plain": [
                            "trip_id              int64\n",
                            "order                int64\n",
                            "lat                float64\n",
                            "lon                float64\n",
                            "time_stamp          object\n",
                            "distance             int64\n",
                            "ac_type             object\n",
                            "confidence          object\n",
                            "time_convention     object\n",
                            "dtype: object"
                        ]
                    },
                    "metadata": {},
                    "execution_count": 6
                },
                {
                    "output_type": "execute_result",
                    "data": {
                        "text/plain": [
                            "(2608, 8)"
                        ]
                    },
                    "metadata": {},
                    "execution_count": 6
                },
                {
                    "output_type": "execute_result",
                    "data": {
                        "text/plain": [
                            "(14184, 9)"
                        ]
                    },
                    "metadata": {},
                    "execution_count": 6
                }
            ],
            "metadata": {}
        },
        {
            "cell_type": "code",
            "execution_count": 7,
            "source": [
                "#change date from string to datetime\r\n",
                "places_df['start_time'] = pd.to_datetime(places_df['start_time'])\r\n",
                "activity_df['time_stamp'] = pd.to_datetime(activity_df['time_stamp'])\r\n",
                "\r\n",
                "#new column for date only \r\n",
                "places_df['date'] = places_df['start_time'].dt.date\r\n",
                "activity_df['date'] = activity_df['time_stamp'].dt.date"
            ],
            "outputs": [],
            "metadata": {}
        },
        {
            "cell_type": "code",
            "execution_count": 8,
            "source": [
                "#check for NA data and duplicated data\r\n",
                "places_df.isna().sum()\r\n",
                "activity_df.isna().sum()\r\n",
                "\r\n",
                "places_df.duplicated().sum()\r\n",
                "activity_df.duplicated().sum()"
            ],
            "outputs": [
                {
                    "output_type": "execute_result",
                    "data": {
                        "text/plain": [
                            "place_id      0\n",
                            "lat           0\n",
                            "lon           0\n",
                            "address       0\n",
                            "start_time    0\n",
                            "end_time      0\n",
                            "confidence    0\n",
                            "place_name    0\n",
                            "date          0\n",
                            "dtype: int64"
                        ]
                    },
                    "metadata": {},
                    "execution_count": 8
                },
                {
                    "output_type": "execute_result",
                    "data": {
                        "text/plain": [
                            "trip_id            0\n",
                            "order              0\n",
                            "lat                0\n",
                            "lon                0\n",
                            "time_stamp         0\n",
                            "distance           0\n",
                            "ac_type            0\n",
                            "confidence         0\n",
                            "time_convention    0\n",
                            "date               0\n",
                            "dtype: int64"
                        ]
                    },
                    "metadata": {},
                    "execution_count": 8
                },
                {
                    "output_type": "execute_result",
                    "data": {
                        "text/plain": [
                            "1304"
                        ]
                    },
                    "metadata": {},
                    "execution_count": 8
                },
                {
                    "output_type": "execute_result",
                    "data": {
                        "text/plain": [
                            "7092"
                        ]
                    },
                    "metadata": {},
                    "execution_count": 8
                }
            ],
            "metadata": {}
        },
        {
            "cell_type": "code",
            "execution_count": 9,
            "source": [
                "#new data frames for main columns of interest\r\n",
                "location_df = places_df[['date','address']]\r\n",
                "aka_names_df = places_df[['place_name','address']]"
            ],
            "outputs": [],
            "metadata": {}
        },
        {
            "cell_type": "code",
            "execution_count": 10,
            "source": [
                "location_df.isna().sum()\r\n",
                "aka_names_df.isna().sum()"
            ],
            "outputs": [
                {
                    "output_type": "execute_result",
                    "data": {
                        "text/plain": [
                            "date       0\n",
                            "address    0\n",
                            "dtype: int64"
                        ]
                    },
                    "metadata": {},
                    "execution_count": 10
                },
                {
                    "output_type": "execute_result",
                    "data": {
                        "text/plain": [
                            "place_name    0\n",
                            "address       0\n",
                            "dtype: int64"
                        ]
                    },
                    "metadata": {},
                    "execution_count": 10
                }
            ],
            "metadata": {}
        },
        {
            "cell_type": "code",
            "execution_count": 11,
            "source": [
                "location_df.duplicated().sum()\r\n",
                "aka_names_df.duplicated().sum()"
            ],
            "outputs": [
                {
                    "output_type": "execute_result",
                    "data": {
                        "text/plain": [
                            "1561"
                        ]
                    },
                    "metadata": {},
                    "execution_count": 11
                },
                {
                    "output_type": "execute_result",
                    "data": {
                        "text/plain": [
                            "2420"
                        ]
                    },
                    "metadata": {},
                    "execution_count": 11
                }
            ],
            "metadata": {}
        },
        {
            "cell_type": "code",
            "execution_count": 12,
            "source": [
                "#remove duplicates\r\n",
                "location_df = location_df.drop_duplicates()\r\n",
                "location_df.duplicated().sum()\r\n",
                "\r\n",
                "aka_names_df = aka_names_df.drop_duplicates()\r\n",
                "aka_names_df.duplicated().sum()"
            ],
            "outputs": [
                {
                    "output_type": "execute_result",
                    "data": {
                        "text/plain": [
                            "0"
                        ]
                    },
                    "metadata": {},
                    "execution_count": 12
                },
                {
                    "output_type": "execute_result",
                    "data": {
                        "text/plain": [
                            "0"
                        ]
                    },
                    "metadata": {},
                    "execution_count": 12
                }
            ],
            "metadata": {}
        },
        {
            "cell_type": "code",
            "execution_count": 13,
            "source": [
                "#check range\r\n",
                "location_df['date'].min()\r\n",
                "location_df['date'].max()"
            ],
            "outputs": [
                {
                    "output_type": "execute_result",
                    "data": {
                        "text/plain": [
                            "datetime.date(2020, 1, 1)"
                        ]
                    },
                    "metadata": {},
                    "execution_count": 13
                },
                {
                    "output_type": "execute_result",
                    "data": {
                        "text/plain": [
                            "datetime.date(2020, 12, 31)"
                        ]
                    },
                    "metadata": {},
                    "execution_count": 13
                }
            ],
            "metadata": {}
        },
        {
            "cell_type": "markdown",
            "source": [
                "# Export Data to CSV "
            ],
            "metadata": {}
        },
        {
            "cell_type": "code",
            "execution_count": 14,
            "source": [
                "#All data\r\n",
                "places_df.to_csv('2020_places.csv')\r\n",
                "activity_df.to_csv('2020_activity.csv')\r\n",
                "\r\n",
                "#Subset of data\r\n",
                "location_df.to_csv('2020_cleaned_locations.csv')\r\n",
                "aka_names_df.to_csv('2020_cleaned_places.csv')"
            ],
            "outputs": [],
            "metadata": {}
        }
    ],
    "metadata": {
        "orig_nbformat": 4,
        "language_info": {
            "name": "python"
        }
    },
    "nbformat": 4,
    "nbformat_minor": 2
}
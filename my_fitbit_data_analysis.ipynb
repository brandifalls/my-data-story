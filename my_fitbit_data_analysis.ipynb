{
    "cells": [
        {
            "cell_type": "markdown",
            "source": [
                "# Overview\r\n",
                "My Fitbit history data was exported from my Fitbit Dashboard.  \r\n",
                "The goal is to use this data to understand personal fitness habits and trends.\r\n",
                "\r\n",
                "Date Range of Data\r\n",
                "* I purchased my 1st device Tuesday, August 20, 2019.\r\n",
                "* I purchased my 2nd device Monday, June 21, 2021 \r\n",
                "* I exported my data on Saturday July 17, 2021\r\n",
                "\r\n",
                "For now, the data I will work with is from 2020 as it is the only complete year of data available. \r\n",
                "\r\n",
                "Directory Structure of the Fitbit Data:    \r\n",
                "/Physical Activity\r\n",
                "\r\n",
                "From here I create separate directories for each data set type.\r\n",
                "* Steps\r\n",
                "* Distance\r\n",
                "* Calories\r\n",
                "* etc\r\n",
                "\r\n",
                "There are many separate JSON files for each data set. \r\n",
                "For example, for steps data, 1 example filename is steps-2019-08-21.json.\r\n",
                "* I collect all files with this name structure, and create a new separate directory to hold them. \r\n",
                "* Then, I load each individual json files into its own dataframe\r\n",
                "* Then, I create a list of all dataframes that have been appended to each other\r\n",
                "* Then, I create 1 dataframe from that list. \r\n",
                "\r\n",
                "This process is repeated for all different data sets/directories.\r\n",
                "\r\n"
            ],
            "metadata": {}
        },
        {
            "cell_type": "markdown",
            "source": [
                "## Resources\r\n",
                "\r\n",
                "https://medium.com/analytics-vidhya/exploring-your-fitbit-sleep-data-with-python-pandas-and-seaborn-in-jupyter-notebook-a997f17c3a42\r\n",
                "\r\n",
                "https://towardsdatascience.com/formating-and-visualizing-time-series-data-ba0b2548f27b\r\n",
                "\r\n",
                "https://github.com/CoreyMSchafer/code_snippets/blob/master/Python/Pandas/10-Datetime-Timeseries/Pandas-Demo.ipynb\r\n",
                "\r\n",
                "https://github.com/soumilshah1995/Data-Analysis-Over-10-years-of-hourly-energy-consumption-data-from-PJM-in-Megawatts/blob/master/Exp3%20.ipynb\r\n"
            ],
            "metadata": {}
        },
        {
            "cell_type": "markdown",
            "source": [
                "# Import Packages"
            ],
            "metadata": {}
        },
        {
            "cell_type": "code",
            "execution_count": null,
            "source": [
                "import os\r\n",
                "import pandas as pd\r\n",
                "import numpy as np\r\n",
                "import seaborn as sns\r\n",
                "import glob\r\n",
                "import shutil\r\n",
                "\r\n",
                "from IPython.core.interactiveshell import InteractiveShell\r\n",
                "InteractiveShell.ast_node_interactivity = \"all\"\r\n",
                "\r\n",
                "import matplotlib.pyplot as plt\r\n",
                "import seaborn as sns\r\n",
                "from pandas.plotting import register_matplotlib_converters\r\n",
                "\r\n",
                "%matplotlib inline"
            ],
            "outputs": [],
            "metadata": {}
        },
        {
            "cell_type": "markdown",
            "source": [
                "# Data Wrangling"
            ],
            "metadata": {}
        },
        {
            "cell_type": "code",
            "execution_count": null,
            "source": [
                "os.getcwd()"
            ],
            "outputs": [],
            "metadata": {}
        },
        {
            "cell_type": "code",
            "execution_count": null,
            "source": [
                "os.chdir('c:\\\\Users\\\\Brandi\\\\Documents\\\\my_fitbit_data\\\\Physical_Activity')\r\n",
                "os.getcwd()"
            ],
            "outputs": [],
            "metadata": {}
        },
        {
            "cell_type": "code",
            "execution_count": null,
            "source": [
                "# to be run only once. \r\n",
                "# #to list collection of unique file names without timestamp\r\n",
                "\r\n",
                "# filenames = os.listdir()\r\n",
                "\r\n",
                "# print(f\"Parsing {len(filenames)} files for unique types.\")\r\n",
                "# unique_filenames = set()\r\n",
                "# for f in filenames:\r\n",
                "#     unique_filenames.add(f.split(\"-\")[0])\r\n",
                "# print(f\"Found {len(unique_filenames)} unique types.\")\r\n",
                "# for name in sorted(unique_filenames):\r\n",
                "#     print(name)"
            ],
            "outputs": [],
            "metadata": {}
        },
        {
            "cell_type": "code",
            "execution_count": null,
            "source": [
                "# to be run only once. \r\n",
                "# create new directory with relative path.\r\n",
                "# move similarly names files to new directory\r\n",
                "\r\n",
                "# os.mkdir(os.path.join(\".\",\"steps_data\"))\r\n",
                "# dest_dir = os.path.join(\".\",\"steps_data\")\r\n",
                "# for file in glob.glob('steps*'):\r\n",
                "#     shutil.move(file, dest_dir)\r\n",
                "\r\n",
                "# os.mkdir(os.path.join(\".\",\"distance_data\"))\r\n",
                "# dest_dir = os.path.join(\".\",\"distance_data\")\r\n",
                "# for file in glob.glob('distance*'):\r\n",
                "#     shutil.move(file, dest_dir)\r\n",
                "\r\n",
                "# os.mkdir(os.path.join(\".\",\"calories_data\"))\r\n",
                "# dest_dir = os.path.join(\".\",\"calories_data\")\r\n",
                "# for file in glob.glob('calories*'):\r\n",
                "#     shutil.move(file, dest_dir)\r\n",
                "\r\n",
                "# os.mkdir(os.path.join(\".\",\"heart_rate_data\"))\r\n",
                "# dest_dir = os.path.join(\".\",\"heart_rate_data\")\r\n",
                "# for file in glob.glob('heart_rate*'):\r\n",
                "#     shutil.move(file, dest_dir)\r\n",
                "\r\n",
                "# os.mkdir(os.path.join(\".\",\"lightly_active_minutes_data\"))\r\n",
                "# dest_dir = os.path.join(\".\",\"lightly_active_minutes_data\")\r\n",
                "# for file in glob.glob('lightly*'):\r\n",
                "#     shutil.move(file, dest_dir)\r\n",
                "\r\n",
                "# os.mkdir(os.path.join(\".\",\"moderately_active_minutes_data\"))\r\n",
                "# dest_dir = os.path.join(\".\",\"moderately_active_minutes_data\")\r\n",
                "# for file in glob.glob('moderately*'):\r\n",
                "#     shutil.move(file, dest_dir)\r\n",
                "\r\n",
                "# os.mkdir(os.path.join(\".\",\"sedentary_minutes_data\"))\r\n",
                "# dest_dir = os.path.join(\".\",\"sedentary_minutes_data\")\r\n",
                "# for file in glob.glob('sedentary*'):\r\n",
                "#     shutil.move(file, dest_dir)\r\n",
                "\r\n",
                "# os.mkdir(os.path.join(\".\",\"very_active_minutes_data\"))\r\n",
                "# dest_dir = os.path.join(\".\",\"very_active_minutes_data\")\r\n",
                "# for file in glob.glob('very_active*'):\r\n",
                "#     shutil.move(file, dest_dir)\r\n",
                "\r\n",
                "# os.mkdir(os.path.join(\".\",\"time_in_heart_rate_zones_data\"))\r\n",
                "# dest_dir = os.path.join(\".\",\"time_in_heart_rate_zones_data\")\r\n",
                "# for file in glob.glob('time_in_heart*'):\r\n",
                "#     shutil.move(file, dest_dir)"
            ],
            "outputs": [],
            "metadata": {}
        },
        {
            "cell_type": "markdown",
            "source": [
                "# Load Data"
            ],
            "metadata": {}
        },
        {
            "cell_type": "code",
            "execution_count": null,
            "source": [
                "#load all json files into 1 list \r\n",
                "dfs = []\r\n",
                "for file in os.listdir(\"steps_data\"):\r\n",
                "    dfs.append(pd.read_json(f\"steps_data/{file}\"))\r\n",
                "\r\n",
                "#concat the files into one dataframe\r\n",
                "df_steps = pd.concat(dfs)"
            ],
            "outputs": [],
            "metadata": {}
        },
        {
            "cell_type": "code",
            "execution_count": null,
            "source": [
                "dfs = []\r\n",
                "for file in os.listdir(\"distance_data\"):\r\n",
                "    dfs.append(pd.read_json(f\"distance_data/{file}\"))\r\n",
                "\r\n",
                "df_distance = pd.concat(dfs)"
            ],
            "outputs": [],
            "metadata": {}
        },
        {
            "cell_type": "code",
            "execution_count": null,
            "source": [
                "dfs = []\r\n",
                "for file in os.listdir(\"calories_data\"):\r\n",
                "    dfs.append(pd.read_json(f\"calories_data/{file}\"))\r\n",
                "\r\n",
                "df_calories = pd.concat(dfs)"
            ],
            "outputs": [],
            "metadata": {}
        },
        {
            "cell_type": "markdown",
            "source": [
                "# Cleaning Data"
            ],
            "metadata": {}
        },
        {
            "cell_type": "code",
            "execution_count": null,
            "source": [
                "#convert date variable to datetime and update in place and then sort by date\r\n",
                "#df_calories.dateTime = pd.to_datetime(df_calories.dateTime)\r\n",
                "df_calories.set_index(\"dateTime\", drop=True, inplace=True)\r\n",
                "df_calories.sort_index(inplace=True)\r\n",
                "\r\n",
                "#df_distance.dateTime = pd.to_datetime(df_distance.dateTime)\r\n",
                "df_distance.set_index(\"dateTime\", drop=True, inplace=True)\r\n",
                "df_distance.sort_index(inplace=True)\r\n",
                "\r\n",
                "#df_steps.dateTime = pd.to_datetime(df_steps.dateTime)\r\n",
                "df_steps.set_index(\"dateTime\", drop=True, inplace=True)\r\n",
                "df_steps.sort_index(inplace=True)"
            ],
            "outputs": [],
            "metadata": {}
        },
        {
            "cell_type": "code",
            "execution_count": null,
            "source": [
                "# create new columns from datetime index for visualizations\r\n",
                "df_calories[\"year\"] = df_calories.index.year\r\n",
                "df_calories[\"month\"] = df_calories.index.month\r\n",
                "df_calories[\"day\"] = df_calories.index.day\r\n",
                "df_calories['weekday'] = df_calories.index.dayofweek\r\n",
                "df_calories['weekday_name'] = df_calories.index.day_name()\r\n",
                "\r\n",
                "df_distance[\"year\"] = df_distance.index.year\r\n",
                "df_distance[\"month\"] = df_distance.index.month\r\n",
                "df_distance[\"day\"] = df_distance.index.day\r\n",
                "df_distance['weekday'] = df_distance.index.dayofweek\r\n",
                "df_distance['weekday_name'] = df_distance.index.day_name()\r\n",
                "\r\n",
                "df_steps[\"year\"] = df_steps.index.year\r\n",
                "df_steps[\"month\"] = df_steps.index.month\r\n",
                "df_steps[\"day\"] = df_steps.index.day\r\n",
                "df_steps['weekday'] = df_steps.index.dayofweek\r\n",
                "df_steps['weekday_name'] = df_steps.index.day_name()"
            ],
            "outputs": [],
            "metadata": {}
        },
        {
            "cell_type": "code",
            "execution_count": null,
            "source": [
                "df_steps['weekday_name'] = pd.Categorical(df_steps['weekday_name'], categories=\r\n",
                "    ['Monday','Tuesday','Wednesday','Thursday','Friday','Saturday', 'Sunday'],\r\n",
                "    ordered=True)\r\n",
                "\r\n",
                "df_calories['weekday_name'] = pd.Categorical(df_calories['weekday_name'], categories=\r\n",
                "    ['Monday','Tuesday','Wednesday','Thursday','Friday','Saturday', 'Sunday'],\r\n",
                "    ordered=True)\r\n",
                "\r\n",
                "df_distance['weekday_name'] = pd.Categorical(df_distance['weekday_name'], categories=\r\n",
                "    ['Monday','Tuesday','Wednesday','Thursday','Friday','Saturday', 'Sunday'],\r\n",
                "    ordered=True)"
            ],
            "outputs": [],
            "metadata": {}
        },
        {
            "cell_type": "code",
            "execution_count": null,
            "source": [
                "#Converting distance from cm to miles (approximate)\r\n",
                "df_distance[\"value\"] = df_distance[\"value\"] / 160934"
            ],
            "outputs": [],
            "metadata": {}
        },
        {
            "cell_type": "code",
            "execution_count": null,
            "source": [
                "#checking min and max dates via index\r\n",
                "df_calories.first_valid_index()\r\n",
                "df_calories.last_valid_index()\r\n",
                "\r\n",
                "df_distance.first_valid_index()\r\n",
                "df_distance.last_valid_index()\r\n",
                "\r\n",
                "df_steps.first_valid_index()\r\n",
                "df_steps.last_valid_index()"
            ],
            "outputs": [],
            "metadata": {}
        },
        {
            "cell_type": "code",
            "execution_count": null,
            "source": [
                "#checking datatypes\r\n",
                "df_steps.dtypes\r\n",
                "df_distance.dtypes\r\n",
                "df_calories.dtypes"
            ],
            "outputs": [],
            "metadata": {}
        },
        {
            "cell_type": "code",
            "execution_count": null,
            "source": [
                "df_steps.head(5)\r\n",
                "df_calories.head(5)\r\n",
                "df_distance.head(5)"
            ],
            "outputs": [],
            "metadata": {}
        },
        {
            "cell_type": "markdown",
            "source": [
                "# Validating Data from Fitbit\r\n",
                "Comparison between the JSON exported data and the Fitbit online dashboard data show that the data is not precisely matching, but it is fairly close.\r\n",
                "\r\n",
                "## Exported June Data\r\n",
                "* total steps  168,846\r\n",
                "* distance 79.704413\r\n",
                "* calories 68,798.59\r\n",
                "\r\n",
                "## Dashboard June Data\r\n",
                "* total steps 169,084\r\n",
                "* distance 80 miles\r\n",
                "* calories 68,835\r\n"
            ],
            "metadata": {}
        },
        {
            "cell_type": "code",
            "execution_count": null,
            "source": [
                "drange_steps = df_steps.loc['2021-06-01':'2021-06-30']\r\n",
                "drange_distance = df_distance.loc['2021-06-01':'2021-06-30']\r\n",
                "drange_calories = df_calories.loc['2021-06-01':'2021-06-30']\r\n",
                "\r\n",
                "june_steps_total = drange_steps[\"value\"].resample(\"M\").sum()\r\n",
                "june_distance_total = (drange_distance[\"value\"].resample(\"M\").sum())\r\n",
                "june_calories_total = drange_calories[\"value\"].resample(\"M\").sum()\r\n",
                "\r\n",
                "june_steps_total\r\n",
                "june_distance_total\r\n",
                "june_calories_total"
            ],
            "outputs": [],
            "metadata": {}
        },
        {
            "cell_type": "markdown",
            "source": [
                "# Merging and Correlation"
            ],
            "metadata": {}
        },
        {
            "cell_type": "code",
            "execution_count": null,
            "source": [
                "#create data frames to merge\r\n",
                "resampled_steps = pd.DataFrame(df_steps[\"value\"].resample(\"D\").sum())\r\n",
                "resampled_calories = pd.DataFrame(df_calories[\"value\"].resample(\"D\").sum())\r\n",
                "resampled_distance = pd.DataFrame(df_distance[\"value\"].resample(\"D\").sum())\r\n",
                "\r\n",
                "resampled_steps.rename(columns= {'value':'steps'},inplace=True)\r\n",
                "resampled_calories.rename(columns= {'value':'calories'},inplace=True)\r\n",
                "resampled_distance.rename(columns= {'value':'distance'},inplace=True)"
            ],
            "outputs": [],
            "metadata": {}
        },
        {
            "cell_type": "code",
            "execution_count": null,
            "source": [
                "#merge calorie, step, distance data\r\n",
                "combined_steps_calories = pd.merge(resampled_steps, resampled_calories, on=[\"dateTime\"])\r\n",
                "combined_all = pd.merge(combined_steps_calories, resampled_distance, on=[\"dateTime\"])\r\n"
            ],
            "outputs": [],
            "metadata": {}
        },
        {
            "cell_type": "code",
            "execution_count": null,
            "source": [
                "combined_all.head()"
            ],
            "outputs": [],
            "metadata": {}
        },
        {
            "cell_type": "code",
            "execution_count": null,
            "source": [
                "#pair plot for quick coorelation analysis\r\n",
                "sns.set_theme(style=\"ticks\")\r\n",
                "sns.pairplot(combined_all)"
            ],
            "outputs": [],
            "metadata": {}
        },
        {
            "cell_type": "code",
            "execution_count": null,
            "source": [
                "sns.regplot(x=\"steps\", y=\"calories\", data=combined_all, scatter_kws={\"color\":\"black\"}, line_kws={\"color\":\"blue\"})\r\n",
                "plt.title(\"Steps vs Calories\") \r\n",
                "plt.xlabel(\"Steps\") \r\n",
                "plt.ylabel(\"Calories\")\r\n",
                "plt.show()"
            ],
            "outputs": [],
            "metadata": {}
        },
        {
            "cell_type": "markdown",
            "source": [
                "# Resample Hourly Data to Create Daily Data"
            ],
            "metadata": {}
        },
        {
            "cell_type": "code",
            "execution_count": null,
            "source": [
                "daily_steps = df_steps['value'].resample('D').sum()\r\n",
                "daily_calories = df_calories['value'].resample('D').sum()\r\n",
                "daily_distance = df_distance['value'].resample('D').sum()"
            ],
            "outputs": [],
            "metadata": {}
        },
        {
            "cell_type": "code",
            "execution_count": null,
            "source": [
                "daily_steps.describe()\r\n",
                "daily_calories.describe()\r\n",
                "daily_distance.describe()"
            ],
            "outputs": [],
            "metadata": {}
        },
        {
            "cell_type": "code",
            "execution_count": null,
            "source": [
                "#Date of max steps\r\n",
                "daily_steps.idxmax()\r\n",
                "\r\n",
                "#max step count\r\n",
                "daily_steps[daily_steps.idxmax()]"
            ],
            "outputs": [],
            "metadata": {}
        },
        {
            "cell_type": "code",
            "execution_count": null,
            "source": [
                "daily_steps['2021-06'].plot(kind=\"bar\")\r\n",
                "plt.axhline(daily_steps['2021-06'].mean(), color='green')\r\n",
                "plt.title(\"Total Daily Steps in June 2021\")\r\n",
                "plt.xlabel(\"Date\")\r\n",
                "plt.ylabel(\"Steps\")"
            ],
            "outputs": [],
            "metadata": {}
        },
        {
            "cell_type": "code",
            "execution_count": null,
            "source": [
                "daily_calories['2021-06'].plot(kind=\"bar\")\r\n",
                "plt.axhline(daily_calories['2021-06'].mean(), color='green')\r\n",
                "plt.title(\"Total Daily Calories in June 2021\")\r\n",
                "plt.xlabel(\"Date\")\r\n",
                "plt.ylabel(\"Calories\")"
            ],
            "outputs": [],
            "metadata": {}
        },
        {
            "cell_type": "code",
            "execution_count": null,
            "source": [
                "daily_distance['2021-06'].plot(kind=\"bar\")\r\n",
                "plt.axhline(daily_distance['2021-06'].mean(), color='green')\r\n",
                "plt.title(\"Total Daily Distance in June 2021\")\r\n",
                "plt.xlabel(\"Date\")\r\n",
                "plt.ylabel(\"Miles\")"
            ],
            "outputs": [],
            "metadata": {}
        },
        {
            "cell_type": "code",
            "execution_count": null,
            "source": [
                "daily_steps['2020'].plot()\r\n",
                "plt.axhline(daily_steps['2020'].mean(), color='green')\r\n",
                "plt.title(\"Total Steps in 2020\")\r\n",
                "plt.xlabel(\"Date\")\r\n",
                "plt.ylabel(\"Steps\")"
            ],
            "outputs": [],
            "metadata": {}
        },
        {
            "cell_type": "code",
            "execution_count": null,
            "source": [
                "daily_calories['2020'].plot()\r\n",
                "plt.axhline(daily_calories['2020'].mean(), color='green')\r\n",
                "plt.title(\"Total Calories in 2020\")\r\n",
                "plt.xlabel(\"Date\")\r\n",
                "plt.ylabel(\"Calories\")"
            ],
            "outputs": [],
            "metadata": {}
        },
        {
            "cell_type": "code",
            "execution_count": null,
            "source": [
                "daily_distance['2020'].plot()\r\n",
                "plt.axhline(daily_distance['2020'].mean(), color='green')\r\n",
                "plt.title(\"Total Distance in 2020\")\r\n",
                "plt.xlabel(\"Miles\")\r\n",
                "plt.ylabel(\"Calories\")"
            ],
            "outputs": [],
            "metadata": {}
        },
        {
            "cell_type": "code",
            "execution_count": null,
            "source": [
                "combined_all.plot()"
            ],
            "outputs": [],
            "metadata": {}
        },
        {
            "cell_type": "code",
            "execution_count": null,
            "source": [
                "combined_all[\"year\"] = combined_all.index.year\r\n",
                "combined_all[\"month\"] = combined_all.index.month\r\n",
                "combined_all['weekday_name'] = combined_all.index.day_name()\r\n",
                "combined_all['weekday_name'] = pd.Categorical(combined_all['weekday_name'], categories=\r\n",
                "    ['Monday','Tuesday','Wednesday','Thursday','Friday','Saturday', 'Sunday'],\r\n",
                "    ordered=True)"
            ],
            "outputs": [],
            "metadata": {}
        },
        {
            "cell_type": "markdown",
            "source": [
                "# Weekday Averages"
            ],
            "metadata": {}
        },
        {
            "cell_type": "code",
            "execution_count": null,
            "source": [
                "g = combined_all.loc['2020'].groupby([\"weekday_name\"])\r\n",
                "avg_weekday_steps = g.aggregate({\"steps\":np.mean})\r\n",
                "avg_weekday_distance = g.aggregate({\"distance\":np.mean})\r\n",
                "avg_weekday_calories = g.aggregate({\"calories\":np.mean})"
            ],
            "outputs": [],
            "metadata": {}
        },
        {
            "cell_type": "code",
            "execution_count": null,
            "source": [
                "avg_weekday_steps.plot(kind=\"bar\")\r\n",
                "plt.title(\"Average Steps\")\r\n",
                "plt.xlabel(\"Day\")\r\n",
                "plt.ylabel(\"Steps\")\r\n",
                "plt.show()"
            ],
            "outputs": [],
            "metadata": {}
        },
        {
            "cell_type": "code",
            "execution_count": null,
            "source": [
                "avg_weekday_distance.plot(kind=\"bar\")\r\n",
                "plt.title(\"Average Distance\")\r\n",
                "plt.xlabel(\"Day\")\r\n",
                "plt.ylabel(\"Distance\")\r\n",
                "plt.show()"
            ],
            "outputs": [],
            "metadata": {}
        },
        {
            "cell_type": "code",
            "execution_count": null,
            "source": [
                "avg_weekday_calories.plot(kind=\"bar\")\r\n",
                "plt.title(\"Average Calories\")\r\n",
                "plt.xlabel(\"Day\")\r\n",
                "plt.ylabel(\"Calories\")\r\n",
                "plt.show()"
            ],
            "outputs": [],
            "metadata": {}
        },
        {
            "cell_type": "markdown",
            "source": [
                "# Monthly Averages"
            ],
            "metadata": {}
        },
        {
            "cell_type": "code",
            "execution_count": null,
            "source": [
                "g = combined_all.loc['2020'].groupby([\"month\"])\r\n",
                "avg_monthly_steps = g.aggregate({\"steps\":np.mean})\r\n",
                "avg_monthly_distance = g.aggregate({\"distance\":np.mean})\r\n",
                "avg_monthly_calories = g.aggregate({\"calories\":np.mean})"
            ],
            "outputs": [],
            "metadata": {}
        },
        {
            "cell_type": "code",
            "execution_count": null,
            "source": [
                "avg_monthly_steps.plot(kind=\"bar\")\r\n",
                "plt.title(\"Average Steps per Month\")\r\n",
                "plt.xlabel(\"Month\")\r\n",
                "plt.ylabel(\"Steps\")\r\n",
                "plt.show()"
            ],
            "outputs": [],
            "metadata": {}
        },
        {
            "cell_type": "code",
            "execution_count": null,
            "source": [
                "avg_monthly_distance.plot(kind=\"bar\")\r\n",
                "plt.title(\"Average Distance per Month\")\r\n",
                "plt.xlabel(\"Month\")\r\n",
                "plt.ylabel(\"Distance\")\r\n",
                "plt.show()"
            ],
            "outputs": [],
            "metadata": {}
        },
        {
            "cell_type": "code",
            "execution_count": null,
            "source": [
                "avg_monthly_calories.plot(kind=\"bar\")\r\n",
                "plt.title(\"Average Calories per Month\")\r\n",
                "plt.xlabel(\"Month\")\r\n",
                "plt.ylabel(\"Calories\")\r\n",
                "plt.show()"
            ],
            "outputs": [],
            "metadata": {}
        },
        {
            "cell_type": "markdown",
            "source": [
                "# Export Data \r\n",
                "Exporting finalized and cleaned data for future analysis and projects."
            ],
            "metadata": {}
        },
        {
            "cell_type": "code",
            "execution_count": null,
            "source": [
                "combined_all.to_csv('combined_all.csv')"
            ],
            "outputs": [],
            "metadata": {}
        },
        {
            "cell_type": "markdown",
            "source": [
                "# Insight from 2020 Data\r\n",
                "\r\n",
                "Correlations\r\n",
                "* Steps, Distance, and Calories are have a positive correlation. As expected. \r\n",
                "\r\n",
                "Weekly Data\r\n",
                "* Sundays I was most active\r\n",
                "* Average data suggests I tended to have a mid-week slump\r\n",
                "\r\n",
                "Monthly Data\r\n",
                "* April was my most active month\r\n",
                "* It seems that the majority of Novemeber, by Fitbit was dead. Thus, little data is avaiable.\r\n"
            ],
            "metadata": {}
        }
    ],
    "metadata": {
        "orig_nbformat": 4,
        "language_info": {
            "name": "python"
        }
    },
    "nbformat": 4,
    "nbformat_minor": 2
}